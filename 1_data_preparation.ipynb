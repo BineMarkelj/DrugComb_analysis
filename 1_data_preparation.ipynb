{
 "cells": [
  {
   "cell_type": "markdown",
   "id": "dbb8d57a8c669faf",
   "metadata": {
    "collapsed": false
   },
   "source": [
    "# DrugComb Analysis\n",
    "\n",
    "Analyzing drug combinations' efficacy on cancer cell treatment.\n"
   ]
  },
  {
   "cell_type": "code",
   "execution_count": 1,
   "id": "ca4d12129f0e319d",
   "metadata": {
    "ExecuteTime": {
     "end_time": "2024-05-29T11:22:21.268509400Z",
     "start_time": "2024-05-29T11:22:14.097479800Z"
    },
    "collapsed": false
   },
   "outputs": [],
   "source": [
    "# Importing necessary libraries\n",
    "import numpy as np\n",
    "import pandas as pd\n",
    "import os\n",
    "import networkx as nx\n",
    "import chardet\n",
    "import matplotlib.pyplot as plt\n",
    "from scipy.stats import zscore\n",
    "import dask.dataframe as dd\n",
    "\n",
    "\n",
    "from sklearn.model_selection import train_test_split\n",
    "from sklearn.preprocessing import StandardScaler"
   ]
  },
  {
   "cell_type": "markdown",
   "id": "1dfd78ceff1914ad",
   "metadata": {
    "collapsed": false
   },
   "source": [
    "## DATA PREPROCESSING\n",
    "\n",
    "Read the data from the files and show the first 5 rows of the data.\n"
   ]
  },
  {
   "cell_type": "code",
   "execution_count": 2,
   "id": "6769fdc5c646611a",
   "metadata": {
    "ExecuteTime": {
     "end_time": "2024-05-29T11:22:28.604002900Z",
     "start_time": "2024-05-29T11:22:27.962890100Z"
    },
    "collapsed": false
   },
   "outputs": [],
   "source": [
    "path_combinations = \"./data/drugcombs_scored.csv\"\n",
    "path_drug_info = \"./data/drug_chemical_info.csv\"\n",
    "\n",
    "# detect encoding of a file - used first time to determine encoding of the files\n",
    "# with open(path_combinations, 'rb') as f:\n",
    "#    encoding_1 = chardet.detect(f.read())\n",
    "# print(encoding_1)\n",
    "# with open(path_drug_info, 'rb') as f:\n",
    "#    encoding_2 = chardet.detect(f.read())\n",
    "# print(encoding_2)\n",
    "\n",
    "# load main data\n",
    "df_combinations = pd.read_csv(path_combinations)\n",
    "\n",
    "# load additional drug information data\n",
    "df_drug_info = pd.read_csv(path_drug_info, encoding=\"ISO-8859-1\")\n",
    "\n",
    "metric_columns = [\"ZIP\", \"Bliss\", \"Loewe\", \"HSA\"]"
   ]
  },
  {
   "cell_type": "code",
   "execution_count": 3,
   "id": "88b6334f",
   "metadata": {},
   "outputs": [],
   "source": [
    "df_combinations[\"Drug1\"] = df_combinations[\"Drug1\"].str.lower()\n",
    "df_combinations[\"Drug2\"] = df_combinations[\"Drug2\"].str.lower()\n",
    "\n",
    "df_drug_info[\"drugName\"] = df_drug_info[\"drugName\"].str.lower()\n",
    "df_drug_info[\"drugNameOfficial\"] = df_drug_info[\"drugNameOfficial\"].str.lower()"
   ]
  },
  {
   "cell_type": "code",
   "execution_count": 4,
   "id": "c04b9cf4d01299dd",
   "metadata": {
    "ExecuteTime": {
     "end_time": "2024-05-29T11:22:29.253585100Z",
     "start_time": "2024-05-29T11:22:29.204090200Z"
    },
    "collapsed": false
   },
   "outputs": [
    {
     "name": "stdout",
     "output_type": "stream",
     "text": [
      "   ID Drug1    Drug2 Cell line    ZIP  Bliss  Loewe    HSA\n",
      "0   1  5-fu  abt-888     A2058   1.72   6.26  -2.75   5.54\n",
      "1   2  5-fu  abt-888     A2058   5.88  12.33   3.33  11.61\n",
      "2   3  5-fu  abt-888     A2058   3.59  11.66   2.65  10.94\n",
      "3   4  5-fu  abt-888     A2058  -0.85   5.15  -3.86   4.43\n",
      "4   5  5-fu  azd1775     A2058  12.29  15.77  10.40  18.66\n",
      "       drugName          cIds drugNameOfficial  molecularWeight  \\\n",
      "0  bendamustine  CIDs00065628     bendamustine        358.26284   \n",
      "1    lonidamine  CIDs00039562       lonidamine        321.15810   \n",
      "2  lenalidomide  CIDs00216326     lenalidomide        259.26062   \n",
      "3    cladribine  CIDs00020279       cladribine        285.68698   \n",
      "4   pentostatin  CIDs00439693      pentostatin        268.26914   \n",
      "\n",
      "                                      smilesString  \n",
      "0       CN1C2=C(C=C(C=C2)N(CCCl)CCCl)N=C1CCCC(=O)O  \n",
      "1  C1=CC=C2C(=C1)C(=NN2CC3=C(C=C(C=C3)Cl)Cl)C(=O)O  \n",
      "2            C1CC(=O)NC(=O)C1N2CC3=C(C2=O)C=CC=C3N  \n",
      "3             C1C(C(OC1N2C=NC3=C2N=C(N=C3N)Cl)CO)O  \n",
      "4                 C1C(C(OC1N2C=NC3=C2NC=NCC3O)CO)O  \n",
      "(498865, 8)\n"
     ]
    }
   ],
   "source": [
    "# show the first 5 rows of the data\n",
    "print(df_combinations.head())\n",
    "print(df_drug_info.head())\n",
    "\n",
    "# show dimensions of the data\n",
    "print(df_combinations.shape)\n",
    "\n",
    "# remove ID column, not needed\n",
    "df_combinations.drop(columns=[\"ID\"], inplace=True)"
   ]
  },
  {
   "cell_type": "markdown",
   "id": "13bc9794a1e23bcd",
   "metadata": {
    "collapsed": false
   },
   "source": [
    "### Handle missing values in the data.\n"
   ]
  },
  {
   "cell_type": "code",
   "execution_count": 5,
   "id": "94701758c5e544c",
   "metadata": {
    "ExecuteTime": {
     "end_time": "2024-05-29T11:22:30.898481Z",
     "start_time": "2024-05-29T11:22:30.655424300Z"
    },
    "collapsed": false
   },
   "outputs": [
    {
     "name": "stdout",
     "output_type": "stream",
     "text": [
      "Drug1        2\n",
      "Drug2        8\n",
      "Cell line    0\n",
      "ZIP          0\n",
      "Bliss        0\n",
      "Loewe        1\n",
      "HSA          0\n",
      "dtype: int64\n",
      "drugName              0\n",
      "cIds                  0\n",
      "drugNameOfficial    454\n",
      "molecularWeight       0\n",
      "smilesString        454\n",
      "dtype: int64\n",
      "(498854, 7)\n"
     ]
    }
   ],
   "source": [
    "# are there any missing values?\n",
    "print(df_combinations.isnull().sum())\n",
    "print(df_drug_info.isnull().sum())\n",
    "\n",
    "# remove rows with missing values\n",
    "df_combinations = df_combinations.dropna()\n",
    "# this is still useful for cids\n",
    "df_drug_info = df_drug_info.dropna(subset=[\"cIds\"])\n",
    "\n",
    "\n",
    "# how many rows are left?\n",
    "print(df_combinations.shape)"
   ]
  },
  {
   "cell_type": "code",
   "execution_count": 6,
   "id": "f675da74",
   "metadata": {},
   "outputs": [],
   "source": [
    "def remove_outliers_iqr(df, column_name):\n",
    "    Q1 = df[column_name].quantile(0.25)\n",
    "    Q3 = df[column_name].quantile(0.75)\n",
    "    IQR = Q3 - Q1\n",
    "    lower_bound = Q1 - 1.5 * IQR\n",
    "    upper_bound = Q3 + 1.5 * IQR\n",
    "    return df[(df[column_name] >= lower_bound) & (df[column_name] <= upper_bound)]\n",
    "\n",
    "\n",
    "to_filter = [\"ZIP\", \"Bliss\", \"Loewe\", \"HSA\"]\n",
    "for col in to_filter:\n",
    "    df_combinations = remove_outliers_iqr(df_combinations, col)\n",
    "\n",
    "df_combinations.to_csv(\"filtered_data/df_combinations_1(outliers).csv\", index=False)"
   ]
  },
  {
   "cell_type": "code",
   "execution_count": 7,
   "id": "37756fd8",
   "metadata": {},
   "outputs": [],
   "source": [
    "df_combinations = df_combinations.groupby(\n",
    "    [\"Drug1\", \"Drug2\", \"Cell line\"], as_index=False\n",
    ").agg({\"ZIP\": \"mean\", \"Bliss\": \"mean\", \"Loewe\": \"mean\", \"HSA\": \"mean\"})\n",
    "\n",
    "df_combinations.to_csv(\"filtered_data/df_combinations_2(avg).csv\", index=False)"
   ]
  },
  {
   "cell_type": "code",
   "execution_count": 8,
   "id": "1ee51ac9",
   "metadata": {},
   "outputs": [],
   "source": [
    "def voting_classification(row):\n",
    "    positive_counts = (row[metric_columns] > 0).sum()\n",
    "    negative_counts = (row[metric_columns] <= 0).sum()\n",
    "\n",
    "    if positive_counts > negative_counts:\n",
    "        return \"synergy\"\n",
    "    else:\n",
    "        return \"antagonism\"\n",
    "\n",
    "\n",
    "# SLOW: Use if needed\n",
    "df_combinations[\"classification\"] = df_combinations.apply(voting_classification, axis=1)\n",
    "df_combinations.to_csv(\n",
    "    \"filtered_data/df_combinations_3(classification).csv\", index=False\n",
    ")"
   ]
  },
  {
   "cell_type": "markdown",
   "id": "c5c74ca376a2cbc3",
   "metadata": {
    "collapsed": false
   },
   "source": [
    "ORIGINAL PAPER DOES NOT USE Z-SCORES, BUT WE COULD TRY THEM LATER IF NEEDED - NOW COMMENTED OUT\n",
    "Calculate z-scores for the drug combinations' efficacy scores and replace the original scores with the z-scores.\n"
   ]
  },
  {
   "cell_type": "code",
   "execution_count": 9,
   "id": "f9b23cd146a14475",
   "metadata": {
    "ExecuteTime": {
     "end_time": "2024-05-29T11:22:44.739229600Z",
     "start_time": "2024-05-29T11:22:44.721872100Z"
    },
    "collapsed": false
   },
   "outputs": [
    {
     "data": {
      "text/plain": [
       "\"\\n# calculate z-scores for the drug combinations' efficacy scores\\ndf_combinations['ZIP_zscore'] = zscore(df_combinations['ZIP'])\\ndf_combinations['BLISS_zscore'] = zscore(df_combinations['Bliss'])\\ndf_combinations['HSA_zscore'] = zscore(df_combinations['HSA'])\\ndf_combinations['Loewe_zscore'] = zscore(df_combinations['Loewe'])\\n\\n# drop the original scores\\ndf_combinations = df_combinations.drop(columns=['ZIP', 'Bliss', 'HSA', 'Loewe'])\\n\""
      ]
     },
     "execution_count": 9,
     "metadata": {},
     "output_type": "execute_result"
    }
   ],
   "source": [
    "\"\"\"\n",
    "# calculate z-scores for the drug combinations' efficacy scores\n",
    "df_combinations['ZIP_zscore'] = zscore(df_combinations['ZIP'])\n",
    "df_combinations['BLISS_zscore'] = zscore(df_combinations['Bliss'])\n",
    "df_combinations['HSA_zscore'] = zscore(df_combinations['HSA'])\n",
    "df_combinations['Loewe_zscore'] = zscore(df_combinations['Loewe'])\n",
    "\n",
    "# drop the original scores\n",
    "df_combinations = df_combinations.drop(columns=['ZIP', 'Bliss', 'HSA', 'Loewe'])\n",
    "\"\"\""
   ]
  },
  {
   "cell_type": "markdown",
   "id": "e497637f43392164",
   "metadata": {
    "collapsed": false
   },
   "source": [
    "Similarly to the original article decide the threshold for synergy and antagonism on each metric.\n",
    "Upper 25% of the scores are considered as synergy, lower 25% as antagonism, and the rest as no effect / not sure.\n",
    "\n",
    "update: used IQR for more robust method to remove outliers. More suitable for skewed distributions.\n"
   ]
  },
  {
   "cell_type": "markdown",
   "id": "64ceb411",
   "metadata": {},
   "source": [
    "Standardize case so we can match with drug info\n"
   ]
  },
  {
   "cell_type": "code",
   "execution_count": 10,
   "id": "3d0b0117",
   "metadata": {},
   "outputs": [
    {
     "name": "stdout",
     "output_type": "stream",
     "text": [
      "     Drug1       Drug2     Cell line      ZIP    Bliss  Loewe    HSA  \\\n",
      "0  (+)-jq1     (+)-jq1            RD  11.6800  11.3200  1.280  2.340   \n",
      "1  (+)-jq1     (+)-jq1       SMS-CTR   4.5600   2.0600 -3.030 -3.200   \n",
      "2  (+)-jq1     (+)-jq1  SU-DIPG-XIII   9.2800  11.2300  1.530  1.970   \n",
      "3  (+)-jq1     (+)-jq1          TMD8   1.5175   1.8475 -1.590  1.885   \n",
      "4  (+)-jq1  10356-76-0         U-HO1   3.5900   1.9600 -4.015  2.770   \n",
      "\n",
      "  classification  \n",
      "0        synergy  \n",
      "1     antagonism  \n",
      "2        synergy  \n",
      "3        synergy  \n",
      "4        synergy  \n"
     ]
    },
    {
     "data": {
      "text/html": [
       "<div>\n",
       "<style scoped>\n",
       "    .dataframe tbody tr th:only-of-type {\n",
       "        vertical-align: middle;\n",
       "    }\n",
       "\n",
       "    .dataframe tbody tr th {\n",
       "        vertical-align: top;\n",
       "    }\n",
       "\n",
       "    .dataframe thead th {\n",
       "        text-align: right;\n",
       "    }\n",
       "</style>\n",
       "<table border=\"1\" class=\"dataframe\">\n",
       "  <thead>\n",
       "    <tr style=\"text-align: right;\">\n",
       "      <th></th>\n",
       "      <th>drugName</th>\n",
       "      <th>cIds</th>\n",
       "      <th>drugNameOfficial</th>\n",
       "      <th>molecularWeight</th>\n",
       "      <th>smilesString</th>\n",
       "    </tr>\n",
       "  </thead>\n",
       "  <tbody>\n",
       "    <tr>\n",
       "      <th>0</th>\n",
       "      <td>bendamustine</td>\n",
       "      <td>CIDs00065628</td>\n",
       "      <td>bendamustine</td>\n",
       "      <td>358.26284</td>\n",
       "      <td>CN1C2=C(C=C(C=C2)N(CCCl)CCCl)N=C1CCCC(=O)O</td>\n",
       "    </tr>\n",
       "    <tr>\n",
       "      <th>1</th>\n",
       "      <td>lonidamine</td>\n",
       "      <td>CIDs00039562</td>\n",
       "      <td>lonidamine</td>\n",
       "      <td>321.15810</td>\n",
       "      <td>C1=CC=C2C(=C1)C(=NN2CC3=C(C=C(C=C3)Cl)Cl)C(=O)O</td>\n",
       "    </tr>\n",
       "    <tr>\n",
       "      <th>2</th>\n",
       "      <td>lenalidomide</td>\n",
       "      <td>CIDs00216326</td>\n",
       "      <td>lenalidomide</td>\n",
       "      <td>259.26062</td>\n",
       "      <td>C1CC(=O)NC(=O)C1N2CC3=C(C2=O)C=CC=C3N</td>\n",
       "    </tr>\n",
       "    <tr>\n",
       "      <th>3</th>\n",
       "      <td>cladribine</td>\n",
       "      <td>CIDs00020279</td>\n",
       "      <td>cladribine</td>\n",
       "      <td>285.68698</td>\n",
       "      <td>C1C(C(OC1N2C=NC3=C2N=C(N=C3N)Cl)CO)O</td>\n",
       "    </tr>\n",
       "    <tr>\n",
       "      <th>4</th>\n",
       "      <td>pentostatin</td>\n",
       "      <td>CIDs00439693</td>\n",
       "      <td>pentostatin</td>\n",
       "      <td>268.26914</td>\n",
       "      <td>C1C(C(OC1N2C=NC3=C2NC=NCC3O)CO)O</td>\n",
       "    </tr>\n",
       "  </tbody>\n",
       "</table>\n",
       "</div>"
      ],
      "text/plain": [
       "       drugName          cIds drugNameOfficial  molecularWeight  \\\n",
       "0  bendamustine  CIDs00065628     bendamustine        358.26284   \n",
       "1    lonidamine  CIDs00039562       lonidamine        321.15810   \n",
       "2  lenalidomide  CIDs00216326     lenalidomide        259.26062   \n",
       "3    cladribine  CIDs00020279       cladribine        285.68698   \n",
       "4   pentostatin  CIDs00439693      pentostatin        268.26914   \n",
       "\n",
       "                                      smilesString  \n",
       "0       CN1C2=C(C=C(C=C2)N(CCCl)CCCl)N=C1CCCC(=O)O  \n",
       "1  C1=CC=C2C(=C1)C(=NN2CC3=C(C=C(C=C3)Cl)Cl)C(=O)O  \n",
       "2            C1CC(=O)NC(=O)C1N2CC3=C(C2=O)C=CC=C3N  \n",
       "3             C1C(C(OC1N2C=NC3=C2N=C(N=C3N)Cl)CO)O  \n",
       "4                 C1C(C(OC1N2C=NC3=C2NC=NCC3O)CO)O  "
      ]
     },
     "execution_count": 10,
     "metadata": {},
     "output_type": "execute_result"
    }
   ],
   "source": [
    "print(df_combinations.head())\n",
    "\n",
    "df_drug_info.head()"
   ]
  },
  {
   "cell_type": "markdown",
   "id": "ef5bc99aa83cba66",
   "metadata": {
    "collapsed": false
   },
   "source": [
    "### Add additional information about the drugs to the main data.\n"
   ]
  },
  {
   "cell_type": "code",
   "execution_count": 11,
   "id": "9946dc359cfd8f39",
   "metadata": {
    "ExecuteTime": {
     "end_time": "2024-05-29T11:23:31.939517300Z",
     "start_time": "2024-05-29T11:23:31.781187Z"
    },
    "collapsed": false
   },
   "outputs": [
    {
     "name": "stdout",
     "output_type": "stream",
     "text": [
      "1830\n"
     ]
    }
   ],
   "source": [
    "unique_drugs = pd.DataFrame(\n",
    "    list(set(df_combinations[\"Drug1\"]).union(set(df_combinations[\"Drug2\"]))),\n",
    "    columns=[\"Drug\"],\n",
    ")\n",
    "\n",
    "merged_df = unique_drugs.merge(\n",
    "    df_drug_info[[\"drugName\", \"cIds\"]], left_on=\"Drug\", right_on=\"drugName\", how=\"left\"\n",
    ")[[\"Drug\", \"cIds\"]]\n",
    "\n",
    "unmatched_drugs = merged_df[merged_df[\"cIds\"].isna()][[\"Drug\"]]\n",
    "\n",
    "second_merge = unmatched_drugs.merge(\n",
    "    df_drug_info[[\"drugNameOfficial\", \"cIds\"]],\n",
    "    left_on=\"Drug\",\n",
    "    right_on=\"drugNameOfficial\",\n",
    "    how=\"left\",\n",
    "    suffixes=(\"\", \"_official\"),\n",
    ")[[\"Drug\", \"cIds\"]]\n",
    "\n",
    "merged_df.update(second_merge)\n",
    "\n",
    "print(merged_df[\"cIds\"].isna().sum())"
   ]
  },
  {
   "cell_type": "markdown",
   "id": "a834d0fe",
   "metadata": {},
   "source": [
    "Step3: fuzzy matching\n"
   ]
  },
  {
   "cell_type": "code",
   "execution_count": 12,
   "id": "403e60d8",
   "metadata": {},
   "outputs": [],
   "source": [
    "from fuzzywuzzy import process\n",
    "\n",
    "matched_cids = merged_df[merged_df[\"cIds\"].notna()][\"cIds\"]\n",
    "\n",
    "df_remaining_info = df_drug_info[~df_drug_info[\"cIds\"].isin(matched_cids)]\n",
    "\n",
    "unmatched_drugs = merged_df[merged_df[\"cIds\"].isna()]\n",
    "\n",
    "drug_names = pd.concat(\n",
    "    [df_remaining_info[\"drugName\"], df_remaining_info[\"drugNameOfficial\"]]\n",
    ").unique()\n",
    "drug_names = drug_names[drug_names != \"none\"]\n",
    "\n",
    "\n",
    "def get_best_match(drug, lb=89):\n",
    "    best_match, score = process.extractOne(drug, drug_names)\n",
    "    if score >= lb:\n",
    "        return best_match\n",
    "    else:\n",
    "        return None\n",
    "\n",
    "\n",
    "matches = unmatched_drugs[\"Drug\"].apply(get_best_match)"
   ]
  },
  {
   "cell_type": "code",
   "execution_count": 13,
   "id": "4fe5d592",
   "metadata": {},
   "outputs": [],
   "source": [
    "matches.dropna(inplace=True)\n",
    "\n",
    "matches_df = matches.to_frame(\"match\")\n",
    "\n",
    "matches_df[\"Drug\"] = merged_df.iloc[matches_df.index][\"Drug\"]\n",
    "\n",
    "final1 = matches_df.merge(\n",
    "    df_remaining_info[[\"drugNameOfficial\", \"cIds\"]],\n",
    "    left_on=\"match\",\n",
    "    right_on=\"drugNameOfficial\",\n",
    "    how=\"left\",\n",
    ")[[\"match\", \"Drug\", \"cIds\"]]\n",
    "final1.update(\n",
    "    matches_df.merge(\n",
    "        df_remaining_info[[\"drugName\", \"cIds\"]],\n",
    "        left_on=\"match\",\n",
    "        right_on=\"drugName\",\n",
    "        how=\"left\",\n",
    "    )[[\"match\", \"Drug\", \"cIds\"]]\n",
    ")\n",
    "\n",
    "matches_df[\"cIds\"] = final1.set_index(matches_df.index)[\"cIds\"]\n",
    "\n",
    "merged_df.update(matches_df[[\"Drug\", \"cIds\"]])\n",
    "\n",
    "merged_df.dropna(inplace=True)"
   ]
  },
  {
   "cell_type": "code",
   "execution_count": 14,
   "id": "c61a0270",
   "metadata": {},
   "outputs": [],
   "source": [
    "merged_df.to_csv(\"filtered_data/df_drug_cid.csv\", index=False)"
   ]
  },
  {
   "cell_type": "markdown",
   "id": "5924ce74",
   "metadata": {},
   "source": [
    "### REFER TO data_processing.ipynb FROM HERE ON OUT\n"
   ]
  },
  {
   "cell_type": "markdown",
   "id": "ce30e82c54a5645a",
   "metadata": {
    "collapsed": false
   },
   "source": [
    "## GRAPH CREATION AND NETWORK ANALYSIS\n",
    "\n",
    "DONE: Create a subgraph for every cell line and calculate network statistics for each subgraph.\n"
   ]
  },
  {
   "cell_type": "code",
   "execution_count": 31,
   "id": "bf2df097b0e26271",
   "metadata": {
    "ExecuteTime": {
     "end_time": "2024-05-29T11:23:45.372425700Z",
     "start_time": "2024-05-29T11:23:45.103428Z"
    },
    "collapsed": false
   },
   "outputs": [
    {
     "name": "stdout",
     "output_type": "stream",
     "text": [
      "10393\n"
     ]
    }
   ],
   "source": [
    "# print(df_combinations.head())\n",
    "# are there rows with same Drug1, Drug2 but different cell lines?\n",
    "grouped = (\n",
    "    df_combinations.groupby([\"Drug1\", \"Drug2\"])[\"Cell line\"]\n",
    "    .nunique()\n",
    "    .reset_index(name=\"count\")\n",
    ")\n",
    "print(len(grouped[grouped[\"count\"] > 1]))"
   ]
  },
  {
   "cell_type": "code",
   "execution_count": 32,
   "id": "94dc724e",
   "metadata": {},
   "outputs": [],
   "source": [
    "cell_lines = df_combinations[\"Cell line\"].unique()"
   ]
  },
  {
   "cell_type": "code",
   "execution_count": 33,
   "id": "a56adc4fc966b9b3",
   "metadata": {
    "ExecuteTime": {
     "end_time": "2024-05-28T22:33:48.571659400Z",
     "start_time": "2024-05-28T22:29:34.491744800Z"
    },
    "collapsed": false
   },
   "outputs": [
    {
     "name": "stdout",
     "output_type": "stream",
     "text": [
      "Finished computing for 1/122\n",
      "Finished computing for 2/122\n",
      "Finished computing for 3/122\n",
      "Finished computing for 4/122\n",
      "Finished computing for 5/122\n",
      "Finished computing for 6/122\n"
     ]
    },
    {
     "name": "stderr",
     "output_type": "stream",
     "text": [
      "Exception ignored in: <bound method IPythonKernel._clean_thread_parent_frames of <ipykernel.ipkernel.IPythonKernel object at 0x79e19cd8f470>>\n",
      "Traceback (most recent call last):\n",
      "  File \"/home/nermin/.venv/arpi/lib/python3.12/site-packages/ipykernel/ipkernel.py\", line 775, in _clean_thread_parent_frames\n",
      "    def _clean_thread_parent_frames(\n",
      "\n",
      "KeyboardInterrupt: \n"
     ]
    }
   ],
   "source": [
    "# go over all cell lines\n",
    "cell_lines = df_combinations[\"Cell line\"].unique()\n",
    "\n",
    "for index, cell_line in enumerate(cell_lines):\n",
    "    # create a subgraph for the cell line\n",
    "    G = nx.Graph()\n",
    "    df_cell_line = df_combinations[df_combinations[\"Cell line\"] == cell_line]\n",
    "    for i, row in df_cell_line.iterrows():\n",
    "        G.add_edge(\n",
    "            row[\"Drug1\"],\n",
    "            row[\"Drug2\"],\n",
    "            cell_line=row[\"Cell line\"],\n",
    "            ZIP=row[\"ZIP\"],\n",
    "            Bliss=row[\"Bliss\"],\n",
    "            Loewe=row[\"Loewe\"],\n",
    "            HSA=row[\"HSA\"],\n",
    "        )\n",
    "\n",
    "    # calculate network statistics\n",
    "    degree_centrality = nx.degree_centrality(G)\n",
    "    closeness_centrality = nx.closeness_centrality(G)\n",
    "    betweenness_centrality = nx.betweenness_centrality(G)\n",
    "    eigenvector_centrality = nx.eigenvector_centrality(G, max_iter=1000)\n",
    "    clustering_coefficient = nx.clustering(G)\n",
    "    pagerank = nx.pagerank(G)\n",
    "    hubs, authority = nx.hits(G)\n",
    "    avg_neighbor_degree = nx.average_neighbor_degree(G)\n",
    "    # edge_betweenness = nx.edge_betweenness_centrality(G)\n",
    "\n",
    "    # visualize the subgraph\n",
    "    # nx.draw(G, with_labels=True)\n",
    "    # plt.title(cell_line)\n",
    "    # plt.show()\n",
    "\n",
    "    df_combinations_subset = df_combinations[\n",
    "        df_combinations[\"Cell line\"] == cell_line\n",
    "    ].copy()\n",
    "\n",
    "    # add network features to the filtered dataframe\n",
    "    df_combinations_subset[\"degree_centrality_Drug1\"] = df_combinations_subset[\n",
    "        \"Drug1\"\n",
    "    ].map(degree_centrality)\n",
    "    df_combinations_subset[\"degree_centrality_Drug2\"] = df_combinations_subset[\n",
    "        \"Drug2\"\n",
    "    ].map(degree_centrality)\n",
    "    df_combinations_subset[\"closeness_centrality_Drug1\"] = df_combinations_subset[\n",
    "        \"Drug1\"\n",
    "    ].map(closeness_centrality)\n",
    "    df_combinations_subset[\"closeness_centrality_Drug2\"] = df_combinations_subset[\n",
    "        \"Drug2\"\n",
    "    ].map(closeness_centrality)\n",
    "    df_combinations_subset[\"betweenness_centrality_Drug1\"] = df_combinations_subset[\n",
    "        \"Drug1\"\n",
    "    ].map(betweenness_centrality)\n",
    "    df_combinations_subset[\"betweenness_centrality_Drug2\"] = df_combinations_subset[\n",
    "        \"Drug2\"\n",
    "    ].map(betweenness_centrality)\n",
    "    df_combinations_subset[\"eigenvector_centrality_Drug1\"] = df_combinations_subset[\n",
    "        \"Drug1\"\n",
    "    ].map(eigenvector_centrality)\n",
    "    df_combinations_subset[\"eigenvector_centrality_Drug2\"] = df_combinations_subset[\n",
    "        \"Drug2\"\n",
    "    ].map(eigenvector_centrality)\n",
    "    df_combinations_subset[\"clustering_coefficient_Drug1\"] = df_combinations_subset[\n",
    "        \"Drug1\"\n",
    "    ].map(clustering_coefficient)\n",
    "    df_combinations_subset[\"clustering_coefficient_Drug2\"] = df_combinations_subset[\n",
    "        \"Drug2\"\n",
    "    ].map(clustering_coefficient)\n",
    "    df_combinations_subset[\"pagerank_Drug1\"] = df_combinations_subset[\"Drug1\"].map(\n",
    "        pagerank\n",
    "    )\n",
    "    df_combinations_subset[\"pagerank_Drug2\"] = df_combinations_subset[\"Drug2\"].map(\n",
    "        pagerank\n",
    "    )\n",
    "    df_combinations_subset[\"hubs_Drug1\"] = df_combinations_subset[\"Drug1\"].map(hubs)\n",
    "    df_combinations_subset[\"hubs_Drug2\"] = df_combinations_subset[\"Drug2\"].map(hubs)\n",
    "    df_combinations_subset[\"authority_Drug1\"] = df_combinations_subset[\"Drug1\"].map(\n",
    "        authority\n",
    "    )\n",
    "    df_combinations_subset[\"authority_Drug2\"] = df_combinations_subset[\"Drug2\"].map(\n",
    "        authority\n",
    "    )\n",
    "    df_combinations_subset[\"avg_neighbor_degree_Drug1\"] = df_combinations_subset[\n",
    "        \"Drug1\"\n",
    "    ].map(avg_neighbor_degree)\n",
    "    df_combinations_subset[\"avg_neighbor_degree_Drug2\"] = df_combinations_subset[\n",
    "        \"Drug2\"\n",
    "    ].map(avg_neighbor_degree)\n",
    "\n",
    "    # remove this rows from the main dataframe\n",
    "    df_combinations = df_combinations[df_combinations[\"Cell line\"] != cell_line]\n",
    "    # add the new rows to the main dataframe\n",
    "    df_combinations = pd.concat(\n",
    "        [df_combinations, df_combinations_subset], ignore_index=True\n",
    "    )\n",
    "\n",
    "    print(f\"Finished computing for {index+1}/{len(cell_lines)}\")"
   ]
  },
  {
   "cell_type": "markdown",
   "id": "3f141fe39e5f6fe7",
   "metadata": {
    "collapsed": false
   },
   "source": [
    "Following cells are not used, because we split data into subgraphs by cell lines.\n"
   ]
  },
  {
   "cell_type": "code",
   "execution_count": null,
   "id": "b737f86747628ba",
   "metadata": {
    "ExecuteTime": {
     "end_time": "2024-05-28T22:33:55.615414900Z",
     "start_time": "2024-05-28T22:33:55.608420Z"
    },
    "collapsed": false
   },
   "outputs": [],
   "source": [
    "\"\"\"\n",
    "# initialize graph\n",
    "G = nx.Graph()\n",
    "\n",
    "# populate graph with nodes and edges\n",
    "for i, row in df_combinations.iterrows():\n",
    "    G.add_edge(row['Drug1'], row['Drug2'], cell_line=row['Cell line'], ZIP=row['ZIP'], Bliss=row['Bliss'], Loewe=row['Loewe'], HSA=row['HSA'])\n",
    "    #G.nodes[row['Drug1']]['molecular_weight'] = row['molecularWeight_Drug1']\n",
    "    #G.nodes[row['Drug2']]['molecular_weight'] = row['molecularWeight_Drug2']\n",
    "\n",
    "# visualize the graph\n",
    "nx.draw(G, with_labels=True)\n",
    "plt.show()\n",
    "\"\"\""
   ]
  },
  {
   "cell_type": "markdown",
   "id": "92101439056047e7",
   "metadata": {
    "collapsed": false
   },
   "source": [
    "Calculate some basic network statistics.\n"
   ]
  },
  {
   "cell_type": "code",
   "execution_count": null,
   "id": "bc089db765a1ffc7",
   "metadata": {
    "ExecuteTime": {
     "end_time": "2024-05-28T22:33:56.801842400Z",
     "start_time": "2024-05-28T22:33:56.782730Z"
    },
    "collapsed": false
   },
   "outputs": [],
   "source": [
    "\"\"\"\n",
    "# number of nodes and edges\n",
    "print('Number of nodes:', G.number_of_nodes())\n",
    "print('Number of edges:', G.number_of_edges())\n",
    "\n",
    "# average degree\n",
    "degrees = [val for (node, val) in G.degree()]\n",
    "print('Average degree:', np.mean(degrees))\n",
    "\n",
    "# average clustering coefficient\n",
    "print('Average clustering coefficient:', nx.average_clustering(G))\n",
    "\n",
    "# average shortest path length\n",
    "print('Average shortest path length:', nx.average_shortest_path_length(G))\n",
    "\n",
    "# density\n",
    "print('Density:', nx.density(G))\n",
    "\n",
    "# plot degree distribution, log-log scale\n",
    "# not histogram\n",
    "degrees = [degree for node, degree in G.degree()]\n",
    "degree_count = np.bincount(degrees)\n",
    "degree = np.arange(len(degree_count))\n",
    "\n",
    "plt.figure()\n",
    "plt.scatter(degree, degree_count, color='blue', alpha=0.7)\n",
    "plt.yscale('log')\n",
    "plt.xscale('log')\n",
    "plt.xlabel('Degree')\n",
    "plt.ylabel('Count')\n",
    "plt.title('Degree distribution')\n",
    "plt.show()\n",
    "\"\"\""
   ]
  },
  {
   "cell_type": "markdown",
   "id": "920a8600b2fda44b",
   "metadata": {
    "collapsed": false
   },
   "source": [
    "Now calculate all network statistics, which will serve as features for the machine learning model.\n"
   ]
  },
  {
   "cell_type": "code",
   "execution_count": null,
   "id": "301d6600f9ac8f7a",
   "metadata": {
    "ExecuteTime": {
     "end_time": "2024-05-28T22:33:58.121683400Z",
     "start_time": "2024-05-28T22:33:58.060780Z"
    },
    "collapsed": false
   },
   "outputs": [],
   "source": [
    "\"\"\"\n",
    "# calculate network features\n",
    "degree_centrality = nx.degree_centrality(G)\n",
    "closeness_centrality = nx.closeness_centrality(G)\n",
    "betweenness_centrality = nx.betweenness_centrality(G)\n",
    "eigenvector_centrality = nx.eigenvector_centrality(G)\n",
    "clustering_coefficient = nx.clustering(G)\n",
    "pagerank = nx.pagerank(G)\n",
    "hubs, authority = nx.hits(G)\n",
    "avg_neighbor_degree = nx.average_neighbor_degree(G)\n",
    "\n",
    "edge_betweenness = nx.edge_betweenness_centrality(G)\n",
    "\"\"\""
   ]
  },
  {
   "cell_type": "code",
   "execution_count": null,
   "id": "51ef3d367d53a902",
   "metadata": {
    "ExecuteTime": {
     "end_time": "2024-05-28T22:33:58.676874800Z",
     "start_time": "2024-05-28T22:33:58.662823900Z"
    },
    "collapsed": false
   },
   "outputs": [],
   "source": [
    "\"\"\"\n",
    "# add network features to the dataframe\n",
    "df_combinations['degree_centrality_Drug1'] = df_combinations['Drug1'].map(degree_centrality)\n",
    "df_combinations['degree_centrality_Drug2'] = df_combinations['Drug2'].map(degree_centrality)\n",
    "df_combinations['closeness_centrality_Drug1'] = df_combinations['Drug1'].map(closeness_centrality)\n",
    "df_combinations['closeness_centrality_Drug2'] = df_combinations['Drug2'].map(closeness_centrality)\n",
    "df_combinations['betweenness_centrality_Drug1'] = df_combinations['Drug1'].map(betweenness_centrality)\n",
    "df_combinations['betweenness_centrality_Drug2'] = df_combinations['Drug2'].map(betweenness_centrality)\n",
    "df_combinations['eigenvector_centrality_Drug1'] = df_combinations['Drug1'].map(eigenvector_centrality)\n",
    "df_combinations['eigenvector_centrality_Drug2'] = df_combinations['Drug2'].map(eigenvector_centrality)\n",
    "df_combinations['clustering_coefficient_Drug1'] = df_combinations['Drug1'].map(clustering_coefficient)\n",
    "df_combinations['clustering_coefficient_Drug2'] = df_combinations['Drug2'].map(clustering_coefficient)\n",
    "df_combinations['pagerank_Drug1'] = df_combinations['Drug1'].map(pagerank)\n",
    "df_combinations['pagerank_Drug2'] = df_combinations['Drug2'].map(pagerank)\n",
    "df_combinations['hubs_Drug1'] = df_combinations['Drug1'].map(hubs)\n",
    "df_combinations['hubs_Drug2'] = df_combinations['Drug2'].map(hubs)\n",
    "df_combinations['authority_Drug1'] = df_combinations['Drug1'].map(authority)\n",
    "df_combinations['authority_Drug2'] = df_combinations['Drug2'].map(authority)\n",
    "df_combinations['avg_neighbor_degree_Drug1'] = df_combinations['Drug1'].map(avg_neighbor_degree)\n",
    "df_combinations['avg_neighbor_degree_Drug2'] = df_combinations['Drug2'].map(avg_neighbor_degree)\n",
    "\n",
    "\"\"\"\n",
    "\n",
    "\"\"\"\n",
    "# separate df for edge features\n",
    "df_edge_features = pd.DataFrame({\n",
    "    'Drug1': [edge[0] for edge in edge_betweenness.keys()],\n",
    "    'Drug2': [edge[1] for edge in edge_betweenness.keys()],\n",
    "    'edge_betweenness': list(edge_betweenness.values())\n",
    "})\n",
    "\n",
    "# merge edge features with the main dataframe\n",
    "df_combinations = df_combinations.merge(df_edge_features, on=['Drug1', 'Drug2'], how='left')\n",
    "\"\"\""
   ]
  },
  {
   "cell_type": "markdown",
   "id": "eafb091ed6015523",
   "metadata": {
    "collapsed": false
   },
   "source": [
    "Again check for missing values in the data.\n"
   ]
  },
  {
   "cell_type": "code",
   "execution_count": null,
   "id": "94ec04436d918063",
   "metadata": {
    "ExecuteTime": {
     "end_time": "2024-05-28T22:34:00.181376400Z",
     "start_time": "2024-05-28T22:34:00.147609900Z"
    },
    "collapsed": false
   },
   "outputs": [],
   "source": [
    "# are there any missing values?\n",
    "print(df_combinations.isnull().sum())"
   ]
  },
  {
   "cell_type": "code",
   "execution_count": null,
   "id": "f791eb519cecc90a",
   "metadata": {
    "ExecuteTime": {
     "end_time": "2024-05-28T22:34:02.005305700Z",
     "start_time": "2024-05-28T22:34:01.976149800Z"
    },
    "collapsed": false
   },
   "outputs": [],
   "source": [
    "# show the first 5 rows of the data\n",
    "print(df_combinations.head())\n",
    "\n",
    "# show dimensions of the data\n",
    "print(df_combinations.shape)"
   ]
  },
  {
   "cell_type": "markdown",
   "id": "76306ebc01c0dd2",
   "metadata": {
    "collapsed": false
   },
   "source": [
    "## MACHINE LEARNING MODEL\n",
    "\n",
    "First prepare the data for the machine learning model.\n"
   ]
  },
  {
   "cell_type": "code",
   "execution_count": null,
   "id": "3ba896da0560d144",
   "metadata": {
    "ExecuteTime": {
     "end_time": "2024-05-28T22:34:14.310811100Z",
     "start_time": "2024-05-28T22:34:14.262043400Z"
    },
    "collapsed": false
   },
   "outputs": [],
   "source": [
    "# 4 target metrics for classification\n",
    "y_zip = df_combinations[\"ZIP\"]\n",
    "y_bliss = df_combinations[\"Bliss\"]\n",
    "y_hsa = df_combinations[\"HSA\"]\n",
    "y_loewe = df_combinations[\"Loewe\"]\n",
    "\n",
    "# all other features are X\n",
    "# one-hot encode Drug1, Drug2, and Cell line TO-DO\n",
    "# df_combinations = pd.get_dummies(df_combinations, columns=['Drug1', 'Drug2'])\n",
    "# df_combinations = pd.get_dummies(df_combinations, columns=['Cell line'])\n",
    "\n",
    "\n",
    "X = df_combinations.drop(\n",
    "    columns=[\"ID\", \"ZIP\", \"Bliss\", \"HSA\", \"Loewe\", \"Cell line\", \"Drug1\", \"Drug2\"]\n",
    ")"
   ]
  },
  {
   "cell_type": "markdown",
   "id": "56685d1bd85ce8d3",
   "metadata": {
    "collapsed": false
   },
   "source": [
    "Split the data into training and testing sets.\n"
   ]
  },
  {
   "cell_type": "code",
   "execution_count": null,
   "id": "e05a838a1aa3ecf0",
   "metadata": {
    "ExecuteTime": {
     "end_time": "2024-05-28T22:34:20.932946700Z",
     "start_time": "2024-05-28T22:34:20.462899200Z"
    },
    "collapsed": false
   },
   "outputs": [],
   "source": [
    "X_train, X_test, y_zip_train, y_zip_test = train_test_split(\n",
    "    X, y_zip, test_size=0.2, random_state=42\n",
    ")\n",
    "_, _, y_bliss_train, y_bliss_test = train_test_split(\n",
    "    X, y_bliss, test_size=0.2, random_state=42\n",
    ")\n",
    "_, _, y_hsa_train, y_hsa_test = train_test_split(\n",
    "    X, y_hsa, test_size=0.2, random_state=42\n",
    ")\n",
    "_, _, y_loewe_train, y_loewe_test = train_test_split(\n",
    "    X, y_loewe, test_size=0.2, random_state=42\n",
    ")\n",
    "\n",
    "# show dimensions of the data\n",
    "print(f\"X_train: {X_train.shape}, X_test: {X_test.shape}\")\n",
    "print(f\"y_zip_train: {y_zip_train.shape}, y_zip_test: {y_zip_test.shape}\")\n",
    "print(f\"y_bliss_train: {y_bliss_train.shape}, y_bliss_test: {y_bliss_test.shape}\")\n",
    "print(f\"y_hsa_train: {y_hsa_train.shape}, y_hsa_test: {y_hsa_test.shape}\")\n",
    "print(f\"y_loewe_train: {y_loewe_train.shape}, y_loewe_test: {y_loewe_test.shape}\")"
   ]
  },
  {
   "cell_type": "markdown",
   "id": "b192b50997514c83",
   "metadata": {
    "collapsed": false
   },
   "source": [
    "Normalize the features.\n"
   ]
  },
  {
   "cell_type": "code",
   "execution_count": null,
   "id": "68a2f0920e2493cf",
   "metadata": {
    "collapsed": false
   },
   "outputs": [],
   "source": [
    "scaler = StandardScaler()\n",
    "\n",
    "X_train = scaler.fit_transform(X_train)\n",
    "X_test = scaler.transform(X_test)"
   ]
  },
  {
   "cell_type": "markdown",
   "id": "39237d2bf6cdbd15",
   "metadata": {
    "collapsed": false
   },
   "source": [
    "Now train different machine learning models to predict the efficacy of drug combinations\n"
   ]
  },
  {
   "cell_type": "code",
   "execution_count": null,
   "id": "7d62b5eb1dd95fbf",
   "metadata": {
    "ExecuteTime": {
     "end_time": "2024-05-28T22:34:29.011055800Z",
     "start_time": "2024-05-28T22:34:28.884398Z"
    },
    "collapsed": false
   },
   "outputs": [],
   "source": [
    "# import necessary libraries for models\n",
    "from sklearn.linear_model import LinearRegression\n",
    "from sklearn.ensemble import RandomForestRegressor\n",
    "from sklearn.svm import SVR\n",
    "from sklearn.neural_network import MLPRegressor\n",
    "\n",
    "from sklearn.metrics import mean_squared_error"
   ]
  },
  {
   "cell_type": "markdown",
   "id": "76f5696cb271619b",
   "metadata": {
    "collapsed": false
   },
   "source": [
    "Linear regression model\n"
   ]
  },
  {
   "cell_type": "code",
   "execution_count": null,
   "id": "e3759774d376e134",
   "metadata": {
    "ExecuteTime": {
     "end_time": "2024-05-28T22:34:31.911064Z",
     "start_time": "2024-05-28T22:34:30.490996600Z"
    },
    "collapsed": false
   },
   "outputs": [],
   "source": [
    "# linear regression model\n",
    "model_zip = LinearRegression()\n",
    "model_zip.fit(X_train, y_zip_train)\n",
    "y_zip_pred = model_zip.predict(X_test)\n",
    "mse_zip = mean_squared_error(y_zip_test, y_zip_pred)\n",
    "print(\"MSE ZIP:\", mse_zip)\n",
    "\n",
    "model_bliss = LinearRegression()\n",
    "model_bliss.fit(X_train, y_bliss_train)\n",
    "y_bliss_pred = model_bliss.predict(X_test)\n",
    "mse_bliss = mean_squared_error(y_bliss_test, y_bliss_pred)\n",
    "print(\"MSE Bliss:\", mse_bliss)\n",
    "\n",
    "model_hsa = LinearRegression()\n",
    "model_hsa.fit(X_train, y_hsa_train)\n",
    "y_hsa_pred = model_hsa.predict(X_test)\n",
    "mse_hsa = mean_squared_error(y_hsa_test, y_hsa_pred)\n",
    "print(\"MSE HSA:\", mse_hsa)\n",
    "\n",
    "model_loewe = LinearRegression()\n",
    "model_loewe.fit(X_train, y_loewe_train)\n",
    "y_loewe_pred = model_loewe.predict(X_test)\n",
    "mse_loewe = mean_squared_error(y_loewe_test, y_loewe_pred)\n",
    "print(\"MSE Loewe:\", mse_loewe)"
   ]
  },
  {
   "cell_type": "markdown",
   "id": "261e4408e578b289",
   "metadata": {
    "collapsed": false
   },
   "source": [
    "Random forest model\n"
   ]
  },
  {
   "cell_type": "code",
   "execution_count": null,
   "id": "ec25be0422f08dc9",
   "metadata": {
    "ExecuteTime": {
     "end_time": "2024-05-28T22:56:34.823985500Z",
     "start_time": "2024-05-28T22:35:30.032052700Z"
    },
    "collapsed": false
   },
   "outputs": [],
   "source": [
    "# random forest model\n",
    "model_zip = RandomForestRegressor()\n",
    "model_zip.fit(X_train, y_zip_train)\n",
    "y_zip_pred = model_zip.predict(X_test)\n",
    "mse_zip = mean_squared_error(y_zip_test, y_zip_pred)\n",
    "print(\"MSE ZIP:\", mse_zip)\n",
    "\n",
    "model_bliss = RandomForestRegressor()\n",
    "model_bliss.fit(X_train, y_bliss_train)\n",
    "y_bliss_pred = model_bliss.predict(X_test)\n",
    "mse_bliss = mean_squared_error(y_bliss_test, y_bliss_pred)\n",
    "print(\"MSE Bliss:\", mse_bliss)\n",
    "\n",
    "model_hsa = RandomForestRegressor()\n",
    "model_hsa.fit(X_train, y_hsa_train)\n",
    "y_hsa_pred = model_hsa.predict(X_test)\n",
    "mse_hsa = mean_squared_error(y_hsa_test, y_hsa_pred)\n",
    "print(\"MSE HSA:\", mse_hsa)\n",
    "\n",
    "model_loewe = RandomForestRegressor()\n",
    "model_loewe.fit(X_train, y_loewe_train)\n",
    "y_loewe_pred = model_loewe.predict(X_test)\n",
    "mse_loewe = mean_squared_error(y_loewe_test, y_loewe_pred)\n",
    "print(\"MSE Loewe:\", mse_loewe)"
   ]
  },
  {
   "cell_type": "markdown",
   "id": "a2f790231b3d9658",
   "metadata": {
    "collapsed": false
   },
   "source": [
    "SVM\n"
   ]
  },
  {
   "cell_type": "code",
   "execution_count": null,
   "id": "1de00775f1571e93",
   "metadata": {
    "ExecuteTime": {
     "end_time": "2024-05-28T22:58:28.895308400Z",
     "start_time": "2024-05-28T22:57:02.111370Z"
    },
    "collapsed": false
   },
   "outputs": [],
   "source": [
    "# support vector machine\n",
    "model_zip = SVR()\n",
    "model_zip.fit(X_train, y_zip_train)\n",
    "y_zip_pred = model_zip.predict(X_test)\n",
    "mse_zip = mean_squared_error(y_zip_test, y_zip_pred)\n",
    "print(\"MSE ZIP:\", mse_zip)\n",
    "\n",
    "model_bliss = SVR()\n",
    "model_bliss.fit(X_train, y_bliss_train)\n",
    "y_bliss_pred = model_bliss.predict(X_test)\n",
    "mse_bliss = mean_squared_error(y_bliss_test, y_bliss_pred)\n",
    "print(\"MSE Bliss:\", mse_bliss)\n",
    "\n",
    "model_hsa = SVR()\n",
    "model_hsa.fit(X_train, y_hsa_train)\n",
    "y_hsa_pred = model_hsa.predict(X_test)\n",
    "mse_hsa = mean_squared_error(y_hsa_test, y_hsa_pred)\n",
    "print(\"MSE HSA:\", mse_hsa)\n",
    "\n",
    "model_loewe = SVR()\n",
    "model_loewe.fit(X_train, y_loewe_train)\n",
    "y_loewe_pred = model_loewe.predict(X_test)\n",
    "mse_loewe = mean_squared_error(y_loewe_test, y_loewe_pred)\n",
    "print(\"MSE Loewe:\", mse_loewe)"
   ]
  },
  {
   "cell_type": "markdown",
   "id": "3261784422c01db0",
   "metadata": {
    "collapsed": false
   },
   "source": [
    "NN model\n"
   ]
  },
  {
   "cell_type": "code",
   "execution_count": null,
   "id": "94a72c1e5ec7df4b",
   "metadata": {
    "collapsed": false
   },
   "outputs": [],
   "source": [
    "# neural network model\n",
    "model_zip = MLPRegressor()\n",
    "model_zip.fit(X_train, y_zip_train)\n",
    "y_zip_pred = model_zip.predict(X_test)\n",
    "mse_zip = mean_squared_error(y_zip_test, y_zip_pred)\n",
    "print(\"MSE ZIP:\", mse_zip)\n",
    "\n",
    "model_bliss = MLPRegressor()\n",
    "model_bliss.fit(X_train, y_bliss_train)\n",
    "y_bliss_pred = model_bliss.predict(X_test)\n",
    "mse_bliss = mean_squared_error(y_bliss_test, y_bliss_pred)\n",
    "print(\"MSE Bliss:\", mse_bliss)\n",
    "\n",
    "model_hsa = MLPRegressor()\n",
    "model_hsa.fit(X_train, y_hsa_train)\n",
    "y_hsa_pred = model_hsa.predict(X_test)\n",
    "mse_hsa = mean_squared_error(y_hsa_test, y_hsa_pred)\n",
    "print(\"MSE HSA:\", mse_hsa)\n",
    "\n",
    "model_loewe = MLPRegressor()\n",
    "model_loewe.fit(X_train, y_loewe_train)\n",
    "y_loewe_pred = model_loewe.predict(X_test)\n",
    "mse_loewe = mean_squared_error(y_loewe_test, y_loewe_pred)\n",
    "print(\"MSE Loewe:\", mse_loewe)"
   ]
  },
  {
   "cell_type": "markdown",
   "id": "4b47feb7254048b5",
   "metadata": {
    "collapsed": false
   },
   "source": []
  }
 ],
 "metadata": {
  "kernelspec": {
   "display_name": "Python 3",
   "language": "python",
   "name": "python3"
  },
  "language_info": {
   "codemirror_mode": {
    "name": "ipython",
    "version": 3
   },
   "file_extension": ".py",
   "mimetype": "text/x-python",
   "name": "python",
   "nbconvert_exporter": "python",
   "pygments_lexer": "ipython3",
   "version": "3.12.3"
  }
 },
 "nbformat": 4,
 "nbformat_minor": 5
}
