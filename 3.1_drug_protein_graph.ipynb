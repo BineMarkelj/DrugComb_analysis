{
 "cells": [
  {
   "cell_type": "code",
   "execution_count": 4,
   "metadata": {},
   "outputs": [],
   "source": [
    "import pandas as pd\n",
    "from itertools import combinations\n",
    "from sklearn.preprocessing import MinMaxScaler, StandardScaler\n",
    "import joblib"
   ]
  },
  {
   "cell_type": "code",
   "execution_count": 5,
   "metadata": {},
   "outputs": [],
   "source": [
    "df_drug_protein = pd.read_csv(\"filtered_data/df_drug_protein_2(normalized).csv\")\n",
    "df_combinations = pd.read_csv(\"filtered_data/df_combinations_4(filtered).csv\")"
   ]
  },
  {
   "cell_type": "markdown",
   "metadata": {},
   "source": [
    "### Drug-Protein Graph creation\n",
    "\n",
    "Okay so once again the idea is to create a monopartite graph to capture interactions between drugs, joined by their sum of scores.\n"
   ]
  },
  {
   "cell_type": "code",
   "execution_count": 6,
   "metadata": {},
   "outputs": [
    {
     "data": {
      "text/plain": [
       "['scalers/3.1_zscore_grouped.save']"
      ]
     },
     "execution_count": 6,
     "metadata": {},
     "output_type": "execute_result"
    }
   ],
   "source": [
    "def calculate_pairs(group):\n",
    "    chemicals = group[\"chemical\"].values\n",
    "    z_scores = group[\"z_score\"].values\n",
    "    mm_scores = group[\"min_max_score\"].values\n",
    "    results = []\n",
    "    for (chem1, zscore1, mmscore1), (chem2, zscore2, mmscore2) in combinations(\n",
    "        zip(chemicals, z_scores, mm_scores), 2\n",
    "    ):\n",
    "        zs = zscore1 + zscore2\n",
    "        ms = mmscore1 + mmscore2\n",
    "        results.append(\n",
    "            {\n",
    "                \"chemical_1\": chem1,\n",
    "                \"chemical_2\": chem2,\n",
    "                \"protein\": group.name,\n",
    "                \"z_score_sum\": zs,\n",
    "                \"min_max_score_sum\": ms,\n",
    "            }\n",
    "        )\n",
    "    return pd.DataFrame(results)\n",
    "\n",
    "\n",
    "df_common_pairs = (\n",
    "    df_drug_protein.groupby(\"protein\")[[\"chemical\", \"z_score\", \"min_max_score\"]]\n",
    "    .apply(calculate_pairs)\n",
    "    .reset_index(drop=True)\n",
    ")\n",
    "\n",
    "df_common_pairs = (\n",
    "    df_common_pairs.groupby([\"chemical_1\", \"chemical_2\"])\n",
    "    .agg({\"z_score_sum\": \"sum\", \"min_max_score_sum\": \"sum\"})\n",
    "    .reset_index()\n",
    ")\n",
    "\n",
    "minmax_scaler = MinMaxScaler()\n",
    "standard_scaler = StandardScaler()\n",
    "\n",
    "df_common_pairs[[\"z_score_sum\"]] = standard_scaler.fit_transform(\n",
    "    df_common_pairs[[\"z_score_sum\"]]\n",
    ")\n",
    "\n",
    "df_common_pairs[[\"min_max_score_sum\"]] = minmax_scaler.fit_transform(\n",
    "    df_common_pairs[[\"min_max_score_sum\"]]\n",
    ")\n",
    "threshold = df_common_pairs[\"min_max_score_sum\"].quantile(0.90)\n",
    "df_common_pairs_filtered = df_common_pairs[\n",
    "    df_common_pairs[\"min_max_score_sum\"] >= threshold\n",
    "]\n",
    "df_common_pairs_filtered.to_csv(\n",
    "    \"filtered_data/df_pairs_protein(normalized).csv\", index=False\n",
    ")\n",
    "\n",
    "joblib.dump(minmax_scaler, 'scalers/3.1_minmax_grouped.save')\n",
    "joblib.dump(standard_scaler, 'scalers/3.1_zscore_grouped.save')\n",
    "\n"
   ]
  }
 ],
 "metadata": {
  "kernelspec": {
   "display_name": "arpi",
   "language": "python",
   "name": "python3"
  },
  "language_info": {
   "codemirror_mode": {
    "name": "ipython",
    "version": 3
   },
   "file_extension": ".py",
   "mimetype": "text/x-python",
   "name": "python",
   "nbconvert_exporter": "python",
   "pygments_lexer": "ipython3",
   "version": "3.12.3"
  }
 },
 "nbformat": 4,
 "nbformat_minor": 2
}
