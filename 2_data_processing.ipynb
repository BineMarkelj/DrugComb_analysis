{
 "cells": [
  {
   "cell_type": "code",
   "execution_count": 1,
   "metadata": {},
   "outputs": [],
   "source": [
    "import pandas as pd\n",
    "import numpy as np\n",
    "import networkx as nx"
   ]
  },
  {
   "cell_type": "code",
   "execution_count": 2,
   "metadata": {},
   "outputs": [],
   "source": [
    "df_combinations = pd.read_csv(\"filtered_data/df_combinations_3(classification).csv\")\n",
    "\n",
    "df_drug_cid = pd.read_csv(\"filtered_data/df_drug_cid.csv\")\n",
    "\n",
    "df_drug_protein = pd.read_csv(\"data/drug_protein_links.tsv\", sep=\"\\t\")"
   ]
  },
  {
   "cell_type": "code",
   "execution_count": 3,
   "metadata": {},
   "outputs": [],
   "source": [
    "cid_comb_filter = (df_combinations[\"Drug1\"].isin(df_drug_cid[\"Drug\"])) & (\n",
    "    df_combinations[\"Drug2\"].isin(df_drug_cid[\"Drug\"])\n",
    ")\n",
    "df_combinations = df_combinations[cid_comb_filter]"
   ]
  },
  {
   "cell_type": "code",
   "execution_count": 4,
   "metadata": {},
   "outputs": [],
   "source": [
    "cid_protein_filter = df_drug_protein[\"chemical\"].isin(df_drug_cid[\"cIds\"])\n",
    "df_drug_protein = df_drug_protein[cid_protein_filter]"
   ]
  },
  {
   "cell_type": "markdown",
   "metadata": {},
   "source": [
    "### Processing drug-protein interaction data\n",
    "\n",
    "combined score coming from multiple sources should be given a boost, since we have more \"proof\"\n",
    "Therefore we'll use normalize it by dividing by the no. of sources, and applying **logarithmic boost**\n"
   ]
  },
  {
   "cell_type": "code",
   "execution_count": 5,
   "metadata": {},
   "outputs": [],
   "source": [
    "import joblib \n",
    "def calculate_adjusted_score(row):\n",
    "    average_score = row[\"combined_score\"] / row[\"source_count\"]\n",
    "    return average_score * (1 + np.log10(row[\"source_count\"]))\n",
    "\n",
    "\n",
    "sources = [\"experimental\", \"prediction\", \"database\", \"textmining\"]\n",
    "df_drug_protein[\"source_count\"] = df_drug_protein[sources].astype(bool).sum(axis=1)\n",
    "\n",
    "df_drug_protein[\"adjusted_score\"] = df_drug_protein.apply(\n",
    "    calculate_adjusted_score, axis=1\n",
    ")\n",
    "\n",
    "df_drug_protein = df_drug_protein[[\"chemical\", \"protein\", \"adjusted_score\"]]\n",
    "\n",
    "df_drug_protein.to_csv(\n",
    "    \"filtered_data/df_drug_protein_1(adjusted_score).csv\", index=False\n",
    ")"
   ]
  },
  {
   "cell_type": "code",
   "execution_count": 6,
   "metadata": {},
   "outputs": [],
   "source": [
    "from sklearn.preprocessing import MinMaxScaler, StandardScaler\n",
    "\n",
    "min_max_scaler = MinMaxScaler()\n",
    "df_drug_protein[\"min_max_score\"] = min_max_scaler.fit_transform(\n",
    "    df_drug_protein[[\"adjusted_score\"]]\n",
    ")\n",
    "\n",
    "joblib.dump(min_max_scaler, 'scalers/2_minmax_adjustedscore.save')\n",
    "\n",
    "\n",
    "standard_scaler = StandardScaler()\n",
    "df_drug_protein[\"z_score\"] = standard_scaler.fit_transform(\n",
    "    df_drug_protein[[\"adjusted_score\"]]\n",
    ")\n",
    "\n",
    "joblib.dump(standard_scaler, 'scalers/2_zscore_adjustedscore.save')\n",
    "\n",
    "\n",
    "df_drug_protein.to_csv(\"filtered_data/df_drug_protein_2(normalized).csv\", index=False)"
   ]
  },
  {
   "cell_type": "code",
   "execution_count": 7,
   "metadata": {},
   "outputs": [
    {
     "data": {
      "text/html": [
       "<div>\n",
       "<style scoped>\n",
       "    .dataframe tbody tr th:only-of-type {\n",
       "        vertical-align: middle;\n",
       "    }\n",
       "\n",
       "    .dataframe tbody tr th {\n",
       "        vertical-align: top;\n",
       "    }\n",
       "\n",
       "    .dataframe thead th {\n",
       "        text-align: right;\n",
       "    }\n",
       "</style>\n",
       "<table border=\"1\" class=\"dataframe\">\n",
       "  <thead>\n",
       "    <tr style=\"text-align: right;\">\n",
       "      <th></th>\n",
       "      <th>chemical</th>\n",
       "      <th>protein</th>\n",
       "      <th>adjusted_score</th>\n",
       "      <th>min_max_score</th>\n",
       "      <th>z_score</th>\n",
       "    </tr>\n",
       "  </thead>\n",
       "  <tbody>\n",
       "    <tr>\n",
       "      <th>7439087</th>\n",
       "      <td>CIDs91754554</td>\n",
       "      <td>9606.ENSP00000263640</td>\n",
       "      <td>217.0</td>\n",
       "      <td>0.133221</td>\n",
       "      <td>-0.287369</td>\n",
       "    </tr>\n",
       "    <tr>\n",
       "      <th>7444691</th>\n",
       "      <td>CIDs91617630</td>\n",
       "      <td>9606.ENSP00000250457</td>\n",
       "      <td>221.0</td>\n",
       "      <td>0.137684</td>\n",
       "      <td>-0.264418</td>\n",
       "    </tr>\n",
       "    <tr>\n",
       "      <th>7444692</th>\n",
       "      <td>CIDs91617630</td>\n",
       "      <td>9606.ENSP00000262306</td>\n",
       "      <td>260.0</td>\n",
       "      <td>0.181190</td>\n",
       "      <td>-0.040645</td>\n",
       "    </tr>\n",
       "    <tr>\n",
       "      <th>7444693</th>\n",
       "      <td>CIDs91617630</td>\n",
       "      <td>9606.ENSP00000272321</td>\n",
       "      <td>259.0</td>\n",
       "      <td>0.180074</td>\n",
       "      <td>-0.046383</td>\n",
       "    </tr>\n",
       "    <tr>\n",
       "      <th>7515421</th>\n",
       "      <td>CIDs90241673</td>\n",
       "      <td>9606.ENSP00000215829</td>\n",
       "      <td>168.0</td>\n",
       "      <td>0.078560</td>\n",
       "      <td>-0.568519</td>\n",
       "    </tr>\n",
       "  </tbody>\n",
       "</table>\n",
       "</div>"
      ],
      "text/plain": [
       "             chemical               protein  adjusted_score  min_max_score  \\\n",
       "7439087  CIDs91754554  9606.ENSP00000263640           217.0       0.133221   \n",
       "7444691  CIDs91617630  9606.ENSP00000250457           221.0       0.137684   \n",
       "7444692  CIDs91617630  9606.ENSP00000262306           260.0       0.181190   \n",
       "7444693  CIDs91617630  9606.ENSP00000272321           259.0       0.180074   \n",
       "7515421  CIDs90241673  9606.ENSP00000215829           168.0       0.078560   \n",
       "\n",
       "          z_score  \n",
       "7439087 -0.287369  \n",
       "7444691 -0.264418  \n",
       "7444692 -0.040645  \n",
       "7444693 -0.046383  \n",
       "7515421 -0.568519  "
      ]
     },
     "execution_count": 7,
     "metadata": {},
     "output_type": "execute_result"
    }
   ],
   "source": [
    "df_drug_protein.head()"
   ]
  },
  {
   "cell_type": "markdown",
   "metadata": {},
   "source": [
    "### More data for drug-drug\n"
   ]
  },
  {
   "cell_type": "code",
   "execution_count": 8,
   "metadata": {},
   "outputs": [],
   "source": [
    "def create_combination_id(row):\n",
    "    drug1_abbrev = row[\"Drug1\"][:10]\n",
    "    drug2_abbrev = row[\"Drug2\"][:10]\n",
    "    abbrevs = sorted([drug1_abbrev, drug2_abbrev])\n",
    "    return f\"{abbrevs[0]}_{abbrevs[1]}\"\n",
    "\n",
    "\n",
    "df_combinations[\"combination_id\"] = df_combinations.apply(create_combination_id, axis=1)"
   ]
  },
  {
   "cell_type": "code",
   "execution_count": 9,
   "metadata": {},
   "outputs": [],
   "source": [
    "df_combinations.to_csv(\"filtered_data/df_combinations_4(filtered).csv\", index=False)"
   ]
  },
  {
   "cell_type": "code",
   "execution_count": 10,
   "metadata": {},
   "outputs": [],
   "source": [
    "df_avg_scores = (\n",
    "    df_combinations.groupby(\"combination_id\")\n",
    "    .agg({\"ZIP\": \"mean\", \"Bliss\": \"mean\", \"Loewe\": \"mean\", \"HSA\": \"mean\"})\n",
    "    .reset_index()\n",
    ")\n",
    "\n",
    "df_avg_scores.columns = [\n",
    "    \"combination_id\",\n",
    "    \"avg_zip_score\",\n",
    "    \"avg_bliss_score\",\n",
    "    \"avg_loewe_score\",\n",
    "    \"avg_hsa_score\",\n",
    "]\n",
    "\n",
    "df_avg_scores.to_csv(\"filtered_data/df_comb_avg_scores.csv\")"
   ]
  },
  {
   "cell_type": "markdown",
   "metadata": {},
   "source": [
    "### Graph construction\n"
   ]
  }
 ],
 "metadata": {
  "kernelspec": {
   "display_name": "arpi",
   "language": "python",
   "name": "python3"
  },
  "language_info": {
   "codemirror_mode": {
    "name": "ipython",
    "version": 3
   },
   "file_extension": ".py",
   "mimetype": "text/x-python",
   "name": "python",
   "nbconvert_exporter": "python",
   "pygments_lexer": "ipython3",
   "version": "3.12.3"
  }
 },
 "nbformat": 4,
 "nbformat_minor": 2
}
