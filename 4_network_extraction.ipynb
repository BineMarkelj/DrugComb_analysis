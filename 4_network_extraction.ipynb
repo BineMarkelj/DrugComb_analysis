{
 "cells": [
  {
   "cell_type": "code",
   "execution_count": 1,
   "metadata": {},
   "outputs": [],
   "source": [
    "import networkx as nx\n",
    "import pandas as pd"
   ]
  },
  {
   "cell_type": "code",
   "execution_count": 2,
   "metadata": {},
   "outputs": [],
   "source": [
    "df_drug_protein = pd.read_csv(\"filtered_data/df_drug_protein_2(normalized).csv\")\n",
    "df_pairs_protein = pd.read_csv(\"filtered_data/df_pairs_protein(normalized).csv\")"
   ]
  },
  {
   "cell_type": "code",
   "execution_count": 3,
   "metadata": {},
   "outputs": [
    {
     "name": "stdout",
     "output_type": "stream",
     "text": [
      "Graph with 1315 nodes and 66487 edges\n"
     ]
    }
   ],
   "source": [
    "drug_nodes = set(\n",
    "    df_pairs_protein[\"chemical_1\"].unique().tolist()\n",
    "    + df_pairs_protein[\"chemical_2\"].tolist()\n",
    ")\n",
    "edges = [\n",
    "    (\n",
    "        row[\"chemical_1\"],\n",
    "        row[\"chemical_2\"],\n",
    "        {\"z_weight\": row[\"z_score_sum\"], \"min_max_weight\": row[\"min_max_score_sum\"]},\n",
    "    )\n",
    "    for _, row in df_pairs_protein.iterrows()\n",
    "]\n",
    "\n",
    "DP = nx.Graph()\n",
    "DP.add_nodes_from(drug_nodes)\n",
    "DP.add_edges_from(edges)\n",
    "print(DP)"
   ]
  },
  {
   "cell_type": "code",
   "execution_count": 4,
   "metadata": {},
   "outputs": [],
   "source": [
    "dp_deg_centrality = nx.degree_centrality(DP)\n",
    "dp_cc = nx.clustering(DP)\n",
    "dp_pagerank = nx.pagerank(DP)\n",
    "dp_closeness = nx.closeness_centrality(DP)\n",
    "dp_betweenness = nx.betweenness_centrality(DP)"
   ]
  },
  {
   "cell_type": "code",
   "execution_count": 5,
   "metadata": {},
   "outputs": [],
   "source": [
    "def add_node_features(df, feature_dict, feature_name):\n",
    "    df[feature_name + \"_1\"] = df[\"chemical_1\"].map(feature_dict)\n",
    "    df[feature_name + \"_2\"] = df[\"chemical_2\"].map(feature_dict)\n",
    "    return df\n",
    "\n",
    "\n",
    "df_pairs_protein = add_node_features(\n",
    "    df_pairs_protein, dp_deg_centrality, \"degree_centrality\"\n",
    ")\n",
    "df_pairs_protein = add_node_features(df_pairs_protein, dp_cc, \"clustering\")\n",
    "df_pairs_protein = add_node_features(df_pairs_protein, dp_pagerank, \"pagerank\")\n",
    "df_pairs_protein = add_node_features(df_pairs_protein, dp_closeness, \"closeness\")\n",
    "df_pairs_protein = add_node_features(df_pairs_protein, dp_betweenness, \"betweenness\")"
   ]
  },
  {
   "cell_type": "code",
   "execution_count": 6,
   "metadata": {},
   "outputs": [],
   "source": [
    "df_pairs_protein.to_csv(\n",
    "    \"filtered_data/df_pairs_protein_3(network stats).csv\", index=False\n",
    ")"
   ]
  },
  {
   "cell_type": "code",
   "execution_count": 7,
   "metadata": {},
   "outputs": [],
   "source": [
    "df_combinations = pd.read_csv(\"filtered_data/df_combinations_4(filtered).csv\")\n",
    "df_drug_cid = pd.read_csv(\"filtered_data/df_drug_cid.csv\")\n",
    "df_full = df_combinations.copy()"
   ]
  },
  {
   "cell_type": "code",
   "execution_count": 8,
   "metadata": {},
   "outputs": [],
   "source": [
    "cid_dict = df_drug_cid.set_index('Drug')['cIds'].to_dict()\n",
    "\n",
    "df_full['chemical_1'] = df_full['Drug1'].map(cid_dict)\n",
    "df_full['chemical_2'] = df_full['Drug2'].map(cid_dict)"
   ]
  },
  {
   "cell_type": "code",
   "execution_count": 9,
   "metadata": {},
   "outputs": [],
   "source": [
    "df_full_na = df_full.merge(df_pairs_protein, on=['chemical_1', 'chemical_2'],how='left')\n",
    "\n",
    "df_full_large = df_full_na.fillna(0)"
   ]
  },
  {
   "cell_type": "code",
   "execution_count": 10,
   "metadata": {},
   "outputs": [],
   "source": [
    "df_small_na = df_full.merge(df_pairs_protein, on=['chemical_1','chemical_2'],how='inner')"
   ]
  },
  {
   "cell_type": "code",
   "execution_count": 11,
   "metadata": {},
   "outputs": [],
   "source": [
    "df_full_large.to_csv('training_data/df_large[drug-protein].csv',index=False)\n",
    "df_small_na.to_csv('training_data/df_small[drug-protein].csv',index=False)\n"
   ]
  }
 ],
 "metadata": {
  "kernelspec": {
   "display_name": "arpi",
   "language": "python",
   "name": "python3"
  },
  "language_info": {
   "codemirror_mode": {
    "name": "ipython",
    "version": 3
   },
   "file_extension": ".py",
   "mimetype": "text/x-python",
   "name": "python",
   "nbconvert_exporter": "python",
   "pygments_lexer": "ipython3",
   "version": "3.12.3"
  }
 },
 "nbformat": 4,
 "nbformat_minor": 2
}
